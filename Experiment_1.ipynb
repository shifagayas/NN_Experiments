{
 "cells": [
  {
   "cell_type": "code",
   "execution_count": 2,
   "id": "4ab34a61",
   "metadata": {},
   "outputs": [],
   "source": [
    "import numpy as np\n"
   ]
  },
  {
   "cell_type": "code",
   "execution_count": 14,
   "id": "9dabef63",
   "metadata": {},
   "outputs": [],
   "source": [
    "class Perceptron:\n",
    "    def __init__(self, input_size, lr=0.1, epochs=10):\n",
    "        self.weights = np.zeros(input_size + 1)  # +1 for bias\n",
    "        self.lr = lr\n",
    "        self.epochs = epochs\n",
    "        \n",
    "    def activation_fn(self, x):\n",
    "        return np.where(x >= 0, 1, 0)\n",
    "    \n",
    "    def predict(self, x):\n",
    "        z = self.weights[0] + np.dot(x, self.weights[1:])\n",
    "        return self.activation_fn(z)\n",
    "    \n",
    "    def fit(self, X, y):\n",
    "        for _ in range(self.epochs):\n",
    "            for xi, target in zip(X, y):\n",
    "                pred = self.predict(xi)\n",
    "                update = self.lr * (target - pred)\n",
    "                self.weights[1:] += update * xi\n",
    "                self.weights[0] += update\n"
   ]
  },
  {
   "cell_type": "code",
   "execution_count": 7,
   "id": "6e8ed4bb",
   "metadata": {},
   "outputs": [],
   "source": [
    "X_nand = np.array([\n",
    "    [0, 0],\n",
    "    [0, 1],\n",
    "    [1, 0],\n",
    "    [1, 1]\n",
    "])\n",
    "y_nand = np.array([1, 1, 1, 0])"
   ]
  },
  {
   "cell_type": "code",
   "execution_count": 8,
   "id": "f33defdc",
   "metadata": {},
   "outputs": [],
   "source": [
    "X_xor = np.array([\n",
    "    [0, 0],\n",
    "    [0, 1],\n",
    "    [1, 0],\n",
    "    [1, 1]\n",
    "])\n",
    "y_xor = np.array([0, 1, 1, 0])"
   ]
  },
  {
   "cell_type": "code",
   "execution_count": 15,
   "id": "a6cb2ebe",
   "metadata": {},
   "outputs": [],
   "source": [
    "p_nand = Perceptron(input_size=2, lr=0.1, epochs=10)\n",
    "p_nand.fit(X_nand, y_nand)\n",
    "\n",
    "p_xor = Perceptron(input_size=2, lr=0.1, epochs=10)\n",
    "p_xor.fit(X_xor, y_xor)\n"
   ]
  },
  {
   "cell_type": "code",
   "execution_count": 17,
   "id": "09412c61",
   "metadata": {},
   "outputs": [
    {
     "name": "stdout",
     "output_type": "stream",
     "text": [
      "NAND Perceptron Results:\n",
      "Input: [0 0], Predicted: 1, Actual: 1\n",
      "Input: [0 1], Predicted: 1, Actual: 1\n",
      "Input: [1 0], Predicted: 1, Actual: 1\n",
      "Input: [1 1], Predicted: 0, Actual: 0\n"
     ]
    }
   ],
   "source": [
    "print(\"NAND Perceptron Results:\")\n",
    "for x, y in zip(X_nand, y_nand):\n",
    "    print(f\"Input: {x}, Predicted: {p_nand.predict(x)}, Actual: {y}\")\n"
   ]
  },
  {
   "cell_type": "code",
   "execution_count": 18,
   "id": "bc3e79d9",
   "metadata": {},
   "outputs": [
    {
     "name": "stdout",
     "output_type": "stream",
     "text": [
      "\n",
      "XOR Perceptron Results:\n",
      "Input: [0 0], Predicted: 1, Actual: 0\n",
      "Input: [0 1], Predicted: 1, Actual: 1\n",
      "Input: [1 0], Predicted: 0, Actual: 1\n",
      "Input: [1 1], Predicted: 0, Actual: 0\n"
     ]
    }
   ],
   "source": [
    "print(\"\\nXOR Perceptron Results:\")\n",
    "for x, y in zip(X_xor, y_xor):\n",
    "    print(f\"Input: {x}, Predicted: {p_xor.predict(x)}, Actual: {y}\")\n"
   ]
  }
 ],
 "metadata": {
  "kernelspec": {
   "display_name": "Python 3",
   "language": "python",
   "name": "python3"
  },
  "language_info": {
   "codemirror_mode": {
    "name": "ipython",
    "version": 3
   },
   "file_extension": ".py",
   "mimetype": "text/x-python",
   "name": "python",
   "nbconvert_exporter": "python",
   "pygments_lexer": "ipython3",
   "version": "3.13.0"
  }
 },
 "nbformat": 4,
 "nbformat_minor": 5
}
