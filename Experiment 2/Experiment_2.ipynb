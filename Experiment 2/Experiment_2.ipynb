{
 "cells": [
  {
   "cell_type": "code",
   "execution_count": 1,
   "id": "58c482eb",
   "metadata": {},
   "outputs": [],
   "source": [
    "import numpy as np\n",
    "\n",
    "\n",
    "def sigmoid(x):\n",
    "    return 1 / (1 + np.exp(-x))\n",
    "\n",
    "def sigmoid_derivative(x):\n",
    "    return x * (1 - x)\n"
   ]
  },
  {
   "cell_type": "code",
   "execution_count": 2,
   "id": "428ccf24",
   "metadata": {},
   "outputs": [],
   "source": [
    "X = np.array([\n",
    "    [0, 0],\n",
    "    [0, 1],\n",
    "    [1, 0],\n",
    "    [1, 1]\n",
    "])\n",
    "y = np.array([[0], [1], [1], [0]])"
   ]
  },
  {
   "cell_type": "code",
   "execution_count": 3,
   "id": "de9391af",
   "metadata": {},
   "outputs": [],
   "source": [
    "np.random.seed(42)\n",
    "\n",
    "\n",
    "input_size = 2\n",
    "hidden_size = 2\n",
    "output_size = 1"
   ]
  },
  {
   "cell_type": "code",
   "execution_count": 5,
   "id": "146da072",
   "metadata": {},
   "outputs": [],
   "source": [
    "weights_input_hidden = np.random.uniform(-1, 1, (input_size, hidden_size))\n",
    "weights_hidden_output = np.random.uniform(-1, 1, (hidden_size, output_size))\n",
    "\n",
    "bias_hidden = np.zeros((1, hidden_size))\n",
    "bias_output = np.zeros((1, output_size))\n",
    "\n",
    "lr = 0.1\n",
    "epochs = 10000"
   ]
  },
  {
   "cell_type": "code",
   "execution_count": 6,
   "id": "49c152b9",
   "metadata": {},
   "outputs": [
    {
     "name": "stdout",
     "output_type": "stream",
     "text": [
      "Epoch 0, Loss: 0.2535\n",
      "Epoch 1000, Loss: 0.2427\n",
      "Epoch 2000, Loss: 0.2029\n",
      "Epoch 3000, Loss: 0.1580\n",
      "Epoch 4000, Loss: 0.0568\n",
      "Epoch 5000, Loss: 0.0174\n",
      "Epoch 6000, Loss: 0.0090\n",
      "Epoch 7000, Loss: 0.0059\n",
      "Epoch 8000, Loss: 0.0043\n",
      "Epoch 9000, Loss: 0.0033\n"
     ]
    }
   ],
   "source": [
    "for epoch in range(epochs):\n",
    "   \n",
    "    hidden_input = np.dot(X, weights_input_hidden) + bias_hidden\n",
    "    hidden_output = sigmoid(hidden_input)\n",
    "\n",
    "    final_input = np.dot(hidden_output, weights_hidden_output) + bias_output\n",
    "    final_output = sigmoid(final_input)\n",
    "\n",
    "    # Backpropagation\n",
    "    error = y - final_output\n",
    "    d_output = error * sigmoid_derivative(final_output)\n",
    "\n",
    "    error_hidden = d_output.dot(weights_hidden_output.T)\n",
    "    d_hidden = error_hidden * sigmoid_derivative(hidden_output)\n",
    "\n",
    "    # Update weights and biases\n",
    "    weights_hidden_output += hidden_output.T.dot(d_output) * lr\n",
    "    bias_output += np.sum(d_output, axis=0, keepdims=True) * lr\n",
    "\n",
    "    weights_input_hidden += X.T.dot(d_hidden) * lr\n",
    "    bias_hidden += np.sum(d_hidden, axis=0, keepdims=True) * lr\n",
    "\n",
    "    # Print error occasionally\n",
    "    if epoch % 1000 == 0:\n",
    "        loss = np.mean(np.square(error))\n",
    "        print(f\"Epoch {epoch}, Loss: {loss:.4f}\")"
   ]
  },
  {
   "cell_type": "code",
   "execution_count": 7,
   "id": "3cb904f7",
   "metadata": {},
   "outputs": [
    {
     "name": "stdout",
     "output_type": "stream",
     "text": [
      "\n",
      "Final Predictions for XOR:\n",
      "Input: [0 0], Predicted: 0.0548, Actual: 0\n",
      "Input: [0 1], Predicted: 0.9502, Actual: 1\n",
      "Input: [1 0], Predicted: 0.9498, Actual: 1\n",
      "Input: [1 1], Predicted: 0.0538, Actual: 0\n"
     ]
    }
   ],
   "source": [
    "print(\"\\nFinal Predictions for XOR:\")\n",
    "for i in range(len(X)):\n",
    "    print(f\"Input: {X[i]}, Predicted: {final_output[i][0]:.4f}, Actual: {y[i][0]}\")"
   ]
  }
 ],
 "metadata": {
  "kernelspec": {
   "display_name": "Python 3",
   "language": "python",
   "name": "python3"
  },
  "language_info": {
   "codemirror_mode": {
    "name": "ipython",
    "version": 3
   },
   "file_extension": ".py",
   "mimetype": "text/x-python",
   "name": "python",
   "nbconvert_exporter": "python",
   "pygments_lexer": "ipython3",
   "version": "3.13.0"
  }
 },
 "nbformat": 4,
 "nbformat_minor": 5
}
